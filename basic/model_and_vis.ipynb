{
  "nbformat": 4,
  "nbformat_minor": 0,
  "metadata": {
    "colab": {
      "provenance": []
    },
    "kernelspec": {
      "name": "python3",
      "display_name": "Python 3"
    },
    "language_info": {
      "name": "python"
    }
  },
  "cells": [
    {
      "cell_type": "markdown",
      "source": [
        " # Creating, Inspecting, and Visualizing PyTorch Models"
      ],
      "metadata": {
        "id": "lAatNvOhv5HX"
      }
    },
    {
      "cell_type": "markdown",
      "source": [
        "- **Creating Models**: Using `nn.Sequential` and custom `nn.Module` subclassing.\n",
        "- **Inspecting Models**: Using `print()`, `torchinfo`, and accessing parameters/state.\n",
        "- **Visualizing Model Graphs**: Using `torchviz`."
      ],
      "metadata": {
        "id": "e2OIRqbNysY2"
      }
    },
    {
      "cell_type": "code",
      "source": [
        "!pip install -q torchinfo torchviz"
      ],
      "metadata": {
        "id": "SKy5HcJeyT4N",
        "colab": {
          "base_uri": "https://localhost:8080/"
        },
        "outputId": "5ebea9fe-f963-4378-ceb4-09b449eb6a4e"
      },
      "execution_count": 3,
      "outputs": [
        {
          "output_type": "stream",
          "name": "stdout",
          "text": [
            "\u001b[2K   \u001b[90m━━━━━━━━━━━━━━━━━━━━━━━━━━━━━━━━━━━━━━━━\u001b[0m \u001b[32m363.4/363.4 MB\u001b[0m \u001b[31m1.5 MB/s\u001b[0m eta \u001b[36m0:00:00\u001b[0m\n",
            "\u001b[2K   \u001b[90m━━━━━━━━━━━━━━━━━━━━━━━━━━━━━━━━━━━━━━━━\u001b[0m \u001b[32m13.8/13.8 MB\u001b[0m \u001b[31m120.8 MB/s\u001b[0m eta \u001b[36m0:00:00\u001b[0m\n",
            "\u001b[2K   \u001b[90m━━━━━━━━━━━━━━━━━━━━━━━━━━━━━━━━━━━━━━━━\u001b[0m \u001b[32m24.6/24.6 MB\u001b[0m \u001b[31m102.5 MB/s\u001b[0m eta \u001b[36m0:00:00\u001b[0m\n",
            "\u001b[2K   \u001b[90m━━━━━━━━━━━━━━━━━━━━━━━━━━━━━━━━━━━━━━━━\u001b[0m \u001b[32m883.7/883.7 kB\u001b[0m \u001b[31m51.3 MB/s\u001b[0m eta \u001b[36m0:00:00\u001b[0m\n",
            "\u001b[2K   \u001b[90m━━━━━━━━━━━━━━━━━━━━━━━━━━━━━━━━━━━━━━━━\u001b[0m \u001b[32m664.8/664.8 MB\u001b[0m \u001b[31m2.9 MB/s\u001b[0m eta \u001b[36m0:00:00\u001b[0m\n",
            "\u001b[2K   \u001b[90m━━━━━━━━━━━━━━━━━━━━━━━━━━━━━━━━━━━━━━━━\u001b[0m \u001b[32m211.5/211.5 MB\u001b[0m \u001b[31m6.5 MB/s\u001b[0m eta \u001b[36m0:00:00\u001b[0m\n",
            "\u001b[2K   \u001b[90m━━━━━━━━━━━━━━━━━━━━━━━━━━━━━━━━━━━━━━━━\u001b[0m \u001b[32m56.3/56.3 MB\u001b[0m \u001b[31m13.5 MB/s\u001b[0m eta \u001b[36m0:00:00\u001b[0m\n",
            "\u001b[2K   \u001b[90m━━━━━━━━━━━━━━━━━━━━━━━━━━━━━━━━━━━━━━━━\u001b[0m \u001b[32m127.9/127.9 MB\u001b[0m \u001b[31m7.5 MB/s\u001b[0m eta \u001b[36m0:00:00\u001b[0m\n",
            "\u001b[2K   \u001b[90m━━━━━━━━━━━━━━━━━━━━━━━━━━━━━━━━━━━━━━━━\u001b[0m \u001b[32m207.5/207.5 MB\u001b[0m \u001b[31m5.5 MB/s\u001b[0m eta \u001b[36m0:00:00\u001b[0m\n",
            "\u001b[2K   \u001b[90m━━━━━━━━━━━━━━━━━━━━━━━━━━━━━━━━━━━━━━━━\u001b[0m \u001b[32m21.1/21.1 MB\u001b[0m \u001b[31m48.2 MB/s\u001b[0m eta \u001b[36m0:00:00\u001b[0m\n",
            "\u001b[?25h"
          ]
        }
      ]
    },
    {
      "cell_type": "code",
      "source": [
        "# ==============================================================================\n",
        "# 1. nn.Sequential Example\n",
        "# ==============================================================================\n",
        "\n",
        "model_seq = nn.Sequential(\n",
        "    nn.Linear(in_features=INPUT_FEATURES, out_features=128),\n",
        "    nn.ReLU(),\n",
        "     nn.Dropout(p=0.1),\n",
        "    nn.Linear(in_features=128, out_features=10)\n",
        ").to(device)\n",
        "\n",
        "# --- Inspection ---\n",
        "print(\"--------- USING print() ---------\")\n",
        "print(model_seq)\n",
        "print(\"\\n\")\n",
        "\n",
        "print(\"--------- USING torchinfo.summary() ---------\")\n",
        "# Requires a sample input size (Batch, Features, ...)\n",
        "print(summary(model_seq, input_size=(BATCH_SIZE, INPUT_FEATURES)))\n",
        "print(\"\\n\\n\")"
      ],
      "metadata": {
        "colab": {
          "base_uri": "https://localhost:8080/"
        },
        "id": "NYV317bMznNB",
        "outputId": "737e3322-25fc-45fa-88a3-ee5379425f7e"
      },
      "execution_count": 13,
      "outputs": [
        {
          "output_type": "stream",
          "name": "stdout",
          "text": [
            "--------- USING print() ---------\n",
            "Sequential(\n",
            "  (0): Linear(in_features=784, out_features=128, bias=True)\n",
            "  (1): ReLU()\n",
            "  (2): Dropout(p=0.1, inplace=False)\n",
            "  (3): Linear(in_features=128, out_features=10, bias=True)\n",
            ")\n",
            "\n",
            "\n",
            "--------- USING torchinfo.summary() ---------\n",
            "==========================================================================================\n",
            "Layer (type:depth-idx)                   Output Shape              Param #\n",
            "==========================================================================================\n",
            "Sequential                               [32, 10]                  --\n",
            "├─Linear: 1-1                            [32, 128]                 100,480\n",
            "├─ReLU: 1-2                              [32, 128]                 --\n",
            "├─Dropout: 1-3                           [32, 128]                 --\n",
            "├─Linear: 1-4                            [32, 10]                  1,290\n",
            "==========================================================================================\n",
            "Total params: 101,770\n",
            "Trainable params: 101,770\n",
            "Non-trainable params: 0\n",
            "Total mult-adds (Units.MEGABYTES): 3.26\n",
            "==========================================================================================\n",
            "Input size (MB): 0.10\n",
            "Forward/backward pass size (MB): 0.04\n",
            "Params size (MB): 0.41\n",
            "Estimated Total Size (MB): 0.54\n",
            "==========================================================================================\n",
            "\n",
            "\n",
            "\n"
          ]
        }
      ]
    },
    {
      "cell_type": "markdown",
      "source": [
        "## Use `nn.Sequential()`\n",
        "- Pros: Concise for simple tasks\n",
        "- Cons: Inflexible for complex logic"
      ],
      "metadata": {
        "id": "UW8xkB9e0PIN"
      }
    },
    {
      "cell_type": "markdown",
      "source": [
        "device"
      ],
      "metadata": {
        "id": "KuV02bgR2EX2"
      }
    },
    {
      "cell_type": "code",
      "source": [
        "model_seq = nn.Sequential(\n",
        "    nn.Linear(in_features=INPUT_FEATURES, out_features=128),\n",
        "    nn.ReLU(),\n",
        "    nn.Dropout(p=0.1),\n",
        "    nn.Linear(in_features=128, out_features=10)\n",
        ").to(device)\n",
        "\n",
        "print(model_seq)"
      ],
      "metadata": {
        "colab": {
          "base_uri": "https://localhost:8080/"
        },
        "id": "mtc_LCtp1SzA",
        "outputId": "4ecf8f43-2a6a-4924-fa09-df4ac41408c3"
      },
      "execution_count": 6,
      "outputs": [
        {
          "output_type": "stream",
          "name": "stdout",
          "text": [
            "Sequential(\n",
            "  (0): Linear(in_features=784, out_features=128, bias=True)\n",
            "  (1): ReLU()\n",
            "  (2): Dropout(p=0.1, inplace=False)\n",
            "  (3): Linear(in_features=128, out_features=10, bias=True)\n",
            ")\n"
          ]
        }
      ]
    },
    {
      "cell_type": "markdown",
      "source": [
        "## Subclassing `nn.Module`\n",
        "- Define ALL layers that have trainable parameter as class attributes in the `__init__` method.\n",
        "- Implement the data flow logic in the `forward()` logic."
      ],
      "metadata": {
        "id": "x6ZVKH94V3xA"
      }
    },
    {
      "cell_type": "code",
      "source": [
        "# ==============================================================================\n",
        "# 2. Custom nn.Module Subclass Example\n",
        "# ==============================================================================\n",
        "class StandardMLP(nn.Module):\n",
        "    \"\"\"\n",
        "     A Standard Multi-Layer Perceptron, defined by subclassing nn.Module.\n",
        "    \"\"\"\n",
        "    def __init__(self,\n",
        "                 input_size: int,\n",
        "                 hidden_size: int,\n",
        "                 output_size: int,\n",
        "                 dropout_p: float = 0.1):\n",
        "      \"\"\" Defines the layers.\"\"\"\n",
        "      super().__init__() # VERY IMPORTANT: Call parent constructor\n",
        "      self.layer_1 = nn.Linear(input_size, hidden_size)\n",
        "      self.layer_2 = nn.Linear(hidden_size, output_size)\n",
        "      self.dropout = nn.Dropout(dropout_p)\n",
        "\n",
        "    def forward(self, x: torch.Tensor) -> torch.Tensor:\n",
        "       \"\"\" Defines the forward pass logic. \"\"\"\n",
        "       x = self.layer_1(x)\n",
        "       # Can use nn.ReLU() instance, OR F.relu() functional form\n",
        "       x = F.relu(x)\n",
        "       x = self.dropout(x)\n",
        "       x = self.layer_2(x)\n",
        "       return x\n",
        "\n",
        "# --- Instantiation ---\n",
        "model_custom = StandardMLP(\n",
        "    input_size=INPUT_FEATURES,\n",
        "    hidden_size=128,\n",
        "    output_size=10\n",
        "    ).to(device)\n",
        "\n",
        "# --- Inspection ---\n",
        "print(\"--------- USING print() ---------\")\n",
        "print(model_custom)\n",
        "print(\"\\n\")\n",
        "\n",
        "print(\"--------- USING torchinfo.summary() ---------\")\n",
        "print(summary(model_custom, input_size=(BATCH_SIZE, INPUT_FEATURES)))\n",
        "print(\"\\n\")\n",
        "\n",
        "print(\"--------- INSPECTING State Dict Keys ---------\")\n",
        "# The state_dict contains all learnable parameters (weights, biases)\n",
        "print(list(model_custom.state_dict().keys()))\n",
        "print(\"\\n\\n\")"
      ],
      "metadata": {
        "colab": {
          "base_uri": "https://localhost:8080/"
        },
        "id": "IVnECwTSWPcu",
        "outputId": "793f93a8-f3fa-4a90-b03f-089081d87f29"
      },
      "execution_count": 14,
      "outputs": [
        {
          "output_type": "stream",
          "name": "stdout",
          "text": [
            "--------- USING print() ---------\n",
            "StandardMLP(\n",
            "  (layer_1): Linear(in_features=784, out_features=128, bias=True)\n",
            "  (layer_2): Linear(in_features=128, out_features=10, bias=True)\n",
            "  (dropout): Dropout(p=0.1, inplace=False)\n",
            ")\n",
            "\n",
            "\n",
            "--------- USING torchinfo.summary() ---------\n",
            "==========================================================================================\n",
            "Layer (type:depth-idx)                   Output Shape              Param #\n",
            "==========================================================================================\n",
            "StandardMLP                              [32, 10]                  --\n",
            "├─Linear: 1-1                            [32, 128]                 100,480\n",
            "├─Dropout: 1-2                           [32, 128]                 --\n",
            "├─Linear: 1-3                            [32, 10]                  1,290\n",
            "==========================================================================================\n",
            "Total params: 101,770\n",
            "Trainable params: 101,770\n",
            "Non-trainable params: 0\n",
            "Total mult-adds (Units.MEGABYTES): 3.26\n",
            "==========================================================================================\n",
            "Input size (MB): 0.10\n",
            "Forward/backward pass size (MB): 0.04\n",
            "Params size (MB): 0.41\n",
            "Estimated Total Size (MB): 0.54\n",
            "==========================================================================================\n",
            "\n",
            "\n",
            "--------- INSPECTING State Dict Keys ---------\n",
            "['layer_1.weight', 'layer_1.bias', 'layer_2.weight', 'layer_2.bias']\n",
            "\n",
            "\n",
            "\n"
          ]
        }
      ]
    },
    {
      "cell_type": "markdown",
      "source": [
        "##  Building Complex Models: Composing `nn.Module`s"
      ],
      "metadata": {
        "id": "q6rMtB2KXCM_"
      }
    },
    {
      "cell_type": "code",
      "source": [
        "# ==============================================================================\n",
        "# 3. Composing Modules Example\n",
        "# ==============================================================================\n",
        "\n",
        "class ResidualBlock(nn.Module):\n",
        "    \"\"\" A simple block with a residual connection. \"\"\"\n",
        "    def __init__(self, dim: int, dropout_p: float = 0.1):\n",
        "       super().__init__()\n",
        "       self.linear_1 = nn.Linear(dim, dim)\n",
        "       self.linear_2 = nn.Linear(dim, dim)\n",
        "       self.dropout = nn.Dropout(dropout_p)\n",
        "\n",
        "    def forward(self, x: torch.Tensor) -> torch.Tensor:\n",
        "        y = F.relu(self.linear_1(x))\n",
        "        y = self.dropout(y)\n",
        "        y = self.linear_2(y)\n",
        "        return x + y # The residual (skip) connection!\n",
        "\n",
        "\n",
        "class ModularNet(nn.Module):\n",
        "     \"\"\"\n",
        "     A more complex network built using a ModuleList of Blocks.\n",
        "     \"\"\"\n",
        "     def __init__(self,\n",
        "                  input_size: int,\n",
        "                  hidden_size: int,\n",
        "                  num_blocks: int,\n",
        "                  output_size: int,\n",
        "                  dropout_p: float = 0.1\n",
        "                  ):\n",
        "        super().__init__()\n",
        "        self.input_mapper = nn.Linear(input_size, hidden_size)\n",
        "\n",
        "        # Use nn.ModuleList to hold blocks\n",
        "        self.blocks = nn.ModuleList(\n",
        "            [ResidualBlock(hidden_size, dropout_p) for _ in range(num_blocks)]\n",
        "         )\n",
        "\n",
        "        self.classifier = nn.Linear(hidden_size, output_size)\n",
        "\n",
        "     def forward(self, x: torch.Tensor) -> torch.Tensor:\n",
        "         x = F.relu(self.input_mapper(x))\n",
        "         for block in self.blocks: # Apply each block\n",
        "             x = block(x)\n",
        "         x = self.classifier(x)\n",
        "         return x\n",
        "\n",
        "# --- Instantiation ---\n",
        "model_modular = ModularNet(\n",
        "      input_size=INPUT_FEATURES,\n",
        "      hidden_size=128,\n",
        "      num_blocks=3,\n",
        "      output_size=10,\n",
        "      dropout_p=0.1\n",
        "      ).to(device)\n",
        "\n",
        "# --- Inspection ---\n",
        "print(\"--------- USING print() ---------\")\n",
        "print(model_modular) # Note the nested structure\n",
        "print(\"\\n\")\n",
        "\n",
        "print(\"--------- USING torchinfo.summary() ---------\")\n",
        "# Use depth=2 to see more detail inside\n",
        "print(summary(model_modular, input_size=(BATCH_SIZE, INPUT_FEATURES), depth=2))\n",
        "print(\"\\n\\n\")"
      ],
      "metadata": {
        "colab": {
          "base_uri": "https://localhost:8080/"
        },
        "id": "GOQxDWcKXJzT",
        "outputId": "bee435c6-c16c-4701-be68-f8090d78be42"
      },
      "execution_count": 15,
      "outputs": [
        {
          "output_type": "stream",
          "name": "stdout",
          "text": [
            "--------- USING print() ---------\n",
            "ModularNet(\n",
            "  (input_mapper): Linear(in_features=784, out_features=128, bias=True)\n",
            "  (blocks): ModuleList(\n",
            "    (0-2): 3 x ResidualBlock(\n",
            "      (linear_1): Linear(in_features=128, out_features=128, bias=True)\n",
            "      (linear_2): Linear(in_features=128, out_features=128, bias=True)\n",
            "      (dropout): Dropout(p=0.1, inplace=False)\n",
            "    )\n",
            "  )\n",
            "  (classifier): Linear(in_features=128, out_features=10, bias=True)\n",
            ")\n",
            "\n",
            "\n",
            "--------- USING torchinfo.summary() ---------\n",
            "==========================================================================================\n",
            "Layer (type:depth-idx)                   Output Shape              Param #\n",
            "==========================================================================================\n",
            "ModularNet                               [32, 10]                  --\n",
            "├─Linear: 1-1                            [32, 128]                 100,480\n",
            "├─ModuleList: 1-2                        --                        --\n",
            "│    └─ResidualBlock: 2-1                [32, 128]                 33,024\n",
            "│    └─ResidualBlock: 2-2                [32, 128]                 33,024\n",
            "│    └─ResidualBlock: 2-3                [32, 128]                 33,024\n",
            "├─Linear: 1-3                            [32, 10]                  1,290\n",
            "==========================================================================================\n",
            "Total params: 200,842\n",
            "Trainable params: 200,842\n",
            "Non-trainable params: 0\n",
            "Total mult-adds (Units.MEGABYTES): 6.43\n",
            "==========================================================================================\n",
            "Input size (MB): 0.10\n",
            "Forward/backward pass size (MB): 0.23\n",
            "Params size (MB): 0.80\n",
            "Estimated Total Size (MB): 1.14\n",
            "==========================================================================================\n",
            "\n",
            "\n",
            "\n"
          ]
        }
      ]
    },
    {
      "cell_type": "markdown",
      "source": [
        "## Visualizing the Computation Graph (`torchviz`)"
      ],
      "metadata": {
        "id": "hO2BjELhY_O5"
      }
    },
    {
      "cell_type": "code",
      "source": [
        "# ==============================================================================\n",
        "# 4. Visualization using Torchviz\n",
        "# ==============================================================================\n",
        "# Create a dummy input tensor ON THE CORRECT DEVICE\n",
        "dummy_input = torch.randn(BATCH_SIZE, INPUT_FEATURES, device=device)\n",
        "\n",
        "# --- Generate graph for the Modular Model ---\n",
        "model_modular.to(device) # Ensure model is on the right device\n",
        "y = model_modular(dummy_input)\n",
        "\n",
        "# make_dot(tensor, params)\n",
        "#   tensor: The output tensor from a forward pass.\n",
        "#   params: A dict of {name:-parameter} for parameters to include in graph.\n",
        "viz_graph = make_dot(\n",
        "    y,\n",
        "    params=dict(list(model_modular.named_parameters()) + [('input', dummy_input)])\n",
        "    )\n",
        "\n",
        "# In Colab/Jupyter, this will render the graph.\n",
        "# You can also save: viz_graph.render('modular_net_graph', format='png')\n",
        "print(\"Displaying Torchviz graph (may take a moment)...\")\n",
        "display(viz_graph)\n",
        "# Note: If you get an error, ensure graphviz is installed (see Setup cell)"
      ],
      "metadata": {
        "colab": {
          "base_uri": "https://localhost:8080/",
          "height": 1000
        },
        "id": "ROfDdMsUXrTn",
        "outputId": "511d3dd5-c77b-4576-93b9-3ba0dfa84031"
      },
      "execution_count": 16,
      "outputs": [
        {
          "output_type": "stream",
          "name": "stdout",
          "text": [
            "Displaying Torchviz graph (may take a moment)...\n"
          ]
        },
        {
          "output_type": "display_data",
          "data": {
            "image/svg+xml": "<?xml version=\"1.0\" encoding=\"UTF-8\" standalone=\"no\"?>\n<!DOCTYPE svg PUBLIC \"-//W3C//DTD SVG 1.1//EN\"\n \"http://www.w3.org/Graphics/SVG/1.1/DTD/svg11.dtd\">\n<!-- Generated by graphviz version 2.43.0 (0)\n -->\n<!-- Title: %3 Pages: 1 -->\n<svg width=\"1027pt\" height=\"1296pt\"\n viewBox=\"0.00 0.00 1027.34 1296.00\" xmlns=\"http://www.w3.org/2000/svg\" xmlns:xlink=\"http://www.w3.org/1999/xlink\">\n<g id=\"graph0\" class=\"graph\" transform=\"scale(0.95 0.95) rotate(0) translate(4 1366)\">\n<title>%3</title>\n<polygon fill=\"white\" stroke=\"transparent\" points=\"-4,4 -4,-1366 1082,-1366 1082,4 -4,4\"/>\n<!-- 137174183392080 -->\n<g id=\"node1\" class=\"node\">\n<title>137174183392080</title>\n<polygon fill=\"#caff70\" stroke=\"black\" points=\"384,-31 313,-31 313,0 384,0 384,-31\"/>\n<text text-anchor=\"middle\" x=\"348.5\" y=\"-7\" font-family=\"monospace\" font-size=\"10.00\"> (32, 10)</text>\n</g>\n<!-- 137174182994144 -->\n<g id=\"node2\" class=\"node\">\n<title>137174182994144</title>\n<polygon fill=\"lightgrey\" stroke=\"black\" points=\"399,-86 298,-86 298,-67 399,-67 399,-86\"/>\n<text text-anchor=\"middle\" x=\"348.5\" y=\"-74\" font-family=\"monospace\" font-size=\"10.00\">AddmmBackward0</text>\n</g>\n<!-- 137174182994144&#45;&gt;137174183392080 -->\n<g id=\"edge61\" class=\"edge\">\n<title>137174182994144&#45;&gt;137174183392080</title>\n<path fill=\"none\" stroke=\"black\" d=\"M348.5,-66.79C348.5,-60.07 348.5,-50.4 348.5,-41.34\"/>\n<polygon fill=\"black\" stroke=\"black\" points=\"352,-41.19 348.5,-31.19 345,-41.19 352,-41.19\"/>\n</g>\n<!-- 137174182998752 -->\n<g id=\"node3\" class=\"node\">\n<title>137174182998752</title>\n<polygon fill=\"lightgrey\" stroke=\"black\" points=\"282,-141 181,-141 181,-122 282,-122 282,-141\"/>\n<text text-anchor=\"middle\" x=\"231.5\" y=\"-129\" font-family=\"monospace\" font-size=\"10.00\">AccumulateGrad</text>\n</g>\n<!-- 137174182998752&#45;&gt;137174182994144 -->\n<g id=\"edge1\" class=\"edge\">\n<title>137174182998752&#45;&gt;137174182994144</title>\n<path fill=\"none\" stroke=\"black\" d=\"M250.3,-121.98C269.12,-113.46 298.32,-100.23 320,-90.41\"/>\n<polygon fill=\"black\" stroke=\"black\" points=\"321.7,-93.48 329.36,-86.17 318.81,-87.11 321.7,-93.48\"/>\n</g>\n<!-- 137174169546448 -->\n<g id=\"node4\" class=\"node\">\n<title>137174169546448</title>\n<polygon fill=\"lightblue\" stroke=\"black\" points=\"265,-207 158,-207 158,-177 265,-177 265,-207\"/>\n<text text-anchor=\"middle\" x=\"211.5\" y=\"-195\" font-family=\"monospace\" font-size=\"10.00\">classifier.bias</text>\n<text text-anchor=\"middle\" x=\"211.5\" y=\"-184\" font-family=\"monospace\" font-size=\"10.00\"> (10)</text>\n</g>\n<!-- 137174169546448&#45;&gt;137174182998752 -->\n<g id=\"edge2\" class=\"edge\">\n<title>137174169546448&#45;&gt;137174182998752</title>\n<path fill=\"none\" stroke=\"black\" d=\"M216.34,-176.84C219.01,-169.04 222.35,-159.27 225.21,-150.89\"/>\n<polygon fill=\"black\" stroke=\"black\" points=\"228.58,-151.86 228.5,-141.27 221.96,-149.6 228.58,-151.86\"/>\n</g>\n<!-- 137174182996832 -->\n<g id=\"node5\" class=\"node\">\n<title>137174182996832</title>\n<polygon fill=\"lightgrey\" stroke=\"black\" points=\"393,-141 304,-141 304,-122 393,-122 393,-141\"/>\n<text text-anchor=\"middle\" x=\"348.5\" y=\"-129\" font-family=\"monospace\" font-size=\"10.00\">AddBackward0</text>\n</g>\n<!-- 137174182996832&#45;&gt;137174182994144 -->\n<g id=\"edge3\" class=\"edge\">\n<title>137174182996832&#45;&gt;137174182994144</title>\n<path fill=\"none\" stroke=\"black\" d=\"M348.5,-121.75C348.5,-114.8 348.5,-104.85 348.5,-96.13\"/>\n<polygon fill=\"black\" stroke=\"black\" points=\"352,-96.09 348.5,-86.09 345,-96.09 352,-96.09\"/>\n</g>\n<!-- 137174182638880 -->\n<g id=\"node6\" class=\"node\">\n<title>137174182638880</title>\n<polygon fill=\"lightgrey\" stroke=\"black\" points=\"472,-460 383,-460 383,-441 472,-441 472,-460\"/>\n<text text-anchor=\"middle\" x=\"427.5\" y=\"-448\" font-family=\"monospace\" font-size=\"10.00\">AddBackward0</text>\n</g>\n<!-- 137174182638880&#45;&gt;137174182996832 -->\n<g id=\"edge4\" class=\"edge\">\n<title>137174182638880&#45;&gt;137174182996832</title>\n<path fill=\"none\" stroke=\"black\" d=\"M425.72,-440.79C421.75,-420.55 412.5,-368.76 412.5,-325 412.5,-325 412.5,-325 412.5,-257 412.5,-220.35 410.47,-208.94 392.5,-177 386.22,-165.83 376.39,-155.51 367.61,-147.63\"/>\n<polygon fill=\"black\" stroke=\"black\" points=\"369.86,-144.95 359.98,-141.12 365.32,-150.27 369.86,-144.95\"/>\n</g>\n<!-- 137174182629088 -->\n<g id=\"node48\" class=\"node\">\n<title>137174182629088</title>\n<polygon fill=\"lightgrey\" stroke=\"black\" points=\"384,-399.5 283,-399.5 283,-380.5 384,-380.5 384,-399.5\"/>\n<text text-anchor=\"middle\" x=\"333.5\" y=\"-387.5\" font-family=\"monospace\" font-size=\"10.00\">AddmmBackward0</text>\n</g>\n<!-- 137174182638880&#45;&gt;137174182629088 -->\n<g id=\"edge51\" class=\"edge\">\n<title>137174182638880&#45;&gt;137174182629088</title>\n<path fill=\"none\" stroke=\"black\" d=\"M413.63,-440.87C398.5,-431.45 374.04,-416.23 356.12,-405.08\"/>\n<polygon fill=\"black\" stroke=\"black\" points=\"357.77,-401.98 347.43,-399.67 354.07,-407.92 357.77,-401.98\"/>\n</g>\n<!-- 137174182631584 -->\n<g id=\"node7\" class=\"node\">\n<title>137174182631584</title>\n<polygon fill=\"lightgrey\" stroke=\"black\" points=\"691,-779 602,-779 602,-760 691,-760 691,-779\"/>\n<text text-anchor=\"middle\" x=\"646.5\" y=\"-767\" font-family=\"monospace\" font-size=\"10.00\">AddBackward0</text>\n</g>\n<!-- 137174182631584&#45;&gt;137174182638880 -->\n<g id=\"edge5\" class=\"edge\">\n<title>137174182631584&#45;&gt;137174182638880</title>\n<path fill=\"none\" stroke=\"black\" d=\"M645.55,-759.76C643.43,-739.46 638.5,-687.53 638.5,-644 638.5,-644 638.5,-644 638.5,-576 638.5,-503.48 544.9,-472.33 482.38,-459.62\"/>\n<polygon fill=\"black\" stroke=\"black\" points=\"482.73,-456.12 472.25,-457.66 481.4,-462.99 482.73,-456.12\"/>\n</g>\n<!-- 137174182640416 -->\n<g id=\"node34\" class=\"node\">\n<title>137174182640416</title>\n<polygon fill=\"lightgrey\" stroke=\"black\" points=\"595,-718.5 494,-718.5 494,-699.5 595,-699.5 595,-718.5\"/>\n<text text-anchor=\"middle\" x=\"544.5\" y=\"-706.5\" font-family=\"monospace\" font-size=\"10.00\">AddmmBackward0</text>\n</g>\n<!-- 137174182631584&#45;&gt;137174182640416 -->\n<g id=\"edge36\" class=\"edge\">\n<title>137174182631584&#45;&gt;137174182640416</title>\n<path fill=\"none\" stroke=\"black\" d=\"M631.45,-759.87C614.88,-750.36 588,-734.95 568.51,-723.77\"/>\n<polygon fill=\"black\" stroke=\"black\" points=\"570.03,-720.61 559.61,-718.67 566.55,-726.68 570.03,-720.61\"/>\n</g>\n<!-- 137174182632832 -->\n<g id=\"node8\" class=\"node\">\n<title>137174182632832</title>\n<polygon fill=\"lightgrey\" stroke=\"black\" points=\"908,-1098 813,-1098 813,-1079 908,-1079 908,-1098\"/>\n<text text-anchor=\"middle\" x=\"860.5\" y=\"-1086\" font-family=\"monospace\" font-size=\"10.00\">ReluBackward0</text>\n</g>\n<!-- 137174182632832&#45;&gt;137174182631584 -->\n<g id=\"edge6\" class=\"edge\">\n<title>137174182632832&#45;&gt;137174182631584</title>\n<path fill=\"none\" stroke=\"black\" d=\"M859.79,-1078.75C858.2,-1058.44 854.5,-1006.5 854.5,-963 854.5,-963 854.5,-963 854.5,-895 854.5,-823.44 762.74,-792.02 701.11,-778.98\"/>\n<polygon fill=\"black\" stroke=\"black\" points=\"701.62,-775.51 691.12,-776.97 700.23,-782.37 701.62,-775.51\"/>\n</g>\n<!-- 137174182630240 -->\n<g id=\"node20\" class=\"node\">\n<title>137174182630240</title>\n<polygon fill=\"lightgrey\" stroke=\"black\" points=\"814,-1037.5 713,-1037.5 713,-1018.5 814,-1018.5 814,-1037.5\"/>\n<text text-anchor=\"middle\" x=\"763.5\" y=\"-1025.5\" font-family=\"monospace\" font-size=\"10.00\">AddmmBackward0</text>\n</g>\n<!-- 137174182632832&#45;&gt;137174182630240 -->\n<g id=\"edge21\" class=\"edge\">\n<title>137174182632832&#45;&gt;137174182630240</title>\n<path fill=\"none\" stroke=\"black\" d=\"M846.19,-1078.87C830.5,-1069.41 805.1,-1054.09 786.59,-1042.92\"/>\n<polygon fill=\"black\" stroke=\"black\" points=\"788.24,-1039.83 777.87,-1037.67 784.63,-1045.83 788.24,-1039.83\"/>\n</g>\n<!-- 137174182630000 -->\n<g id=\"node9\" class=\"node\">\n<title>137174182630000</title>\n<polygon fill=\"lightgrey\" stroke=\"black\" points=\"941,-1158.5 840,-1158.5 840,-1139.5 941,-1139.5 941,-1158.5\"/>\n<text text-anchor=\"middle\" x=\"890.5\" y=\"-1146.5\" font-family=\"monospace\" font-size=\"10.00\">AddmmBackward0</text>\n</g>\n<!-- 137174182630000&#45;&gt;137174182632832 -->\n<g id=\"edge7\" class=\"edge\">\n<title>137174182630000&#45;&gt;137174182632832</title>\n<path fill=\"none\" stroke=\"black\" d=\"M886.07,-1139.37C881.73,-1130.9 874.98,-1117.74 869.51,-1107.07\"/>\n<polygon fill=\"black\" stroke=\"black\" points=\"872.62,-1105.47 864.94,-1098.17 866.39,-1108.66 872.62,-1105.47\"/>\n</g>\n<!-- 137174182630816 -->\n<g id=\"node10\" class=\"node\">\n<title>137174182630816</title>\n<polygon fill=\"lightgrey\" stroke=\"black\" points=\"941,-1224.5 840,-1224.5 840,-1205.5 941,-1205.5 941,-1224.5\"/>\n<text text-anchor=\"middle\" x=\"890.5\" y=\"-1212.5\" font-family=\"monospace\" font-size=\"10.00\">AccumulateGrad</text>\n</g>\n<!-- 137174182630816&#45;&gt;137174182630000 -->\n<g id=\"edge8\" class=\"edge\">\n<title>137174182630816&#45;&gt;137174182630000</title>\n<path fill=\"none\" stroke=\"black\" d=\"M890.5,-1205.37C890.5,-1196.16 890.5,-1181.29 890.5,-1169.27\"/>\n<polygon fill=\"black\" stroke=\"black\" points=\"894,-1168.91 890.5,-1158.91 887,-1168.91 894,-1168.91\"/>\n</g>\n<!-- 137174169541936 -->\n<g id=\"node11\" class=\"node\">\n<title>137174169541936</title>\n<polygon fill=\"lightblue\" stroke=\"black\" points=\"944,-1296 825,-1296 825,-1266 944,-1266 944,-1296\"/>\n<text text-anchor=\"middle\" x=\"884.5\" y=\"-1284\" font-family=\"monospace\" font-size=\"10.00\">input_mapper.bias</text>\n<text text-anchor=\"middle\" x=\"884.5\" y=\"-1273\" font-family=\"monospace\" font-size=\"10.00\"> (128)</text>\n</g>\n<!-- 137174169541936&#45;&gt;137174182630816 -->\n<g id=\"edge9\" class=\"edge\">\n<title>137174169541936&#45;&gt;137174182630816</title>\n<path fill=\"none\" stroke=\"black\" d=\"M885.83,-1265.8C886.68,-1256.7 887.8,-1244.79 888.73,-1234.9\"/>\n<polygon fill=\"black\" stroke=\"black\" points=\"892.22,-1235.13 889.67,-1224.84 885.25,-1234.47 892.22,-1235.13\"/>\n</g>\n<!-- 137174182630192 -->\n<g id=\"node12\" class=\"node\">\n<title>137174182630192</title>\n<polygon fill=\"lightgrey\" stroke=\"black\" points=\"1046,-1224.5 969,-1224.5 969,-1205.5 1046,-1205.5 1046,-1224.5\"/>\n<text text-anchor=\"middle\" x=\"1007.5\" y=\"-1212.5\" font-family=\"monospace\" font-size=\"10.00\">TBackward0</text>\n</g>\n<!-- 137174182630192&#45;&gt;137174182630000 -->\n<g id=\"edge10\" class=\"edge\">\n<title>137174182630192&#45;&gt;137174182630000</title>\n<path fill=\"none\" stroke=\"black\" d=\"M991.72,-1205.37C972.09,-1194.63 938.36,-1176.18 915.27,-1163.55\"/>\n<polygon fill=\"black\" stroke=\"black\" points=\"916.86,-1160.43 906.4,-1158.7 913.5,-1166.57 916.86,-1160.43\"/>\n</g>\n<!-- 137174182640176 -->\n<g id=\"node13\" class=\"node\">\n<title>137174182640176</title>\n<polygon fill=\"lightgrey\" stroke=\"black\" points=\"1063,-1290.5 962,-1290.5 962,-1271.5 1063,-1271.5 1063,-1290.5\"/>\n<text text-anchor=\"middle\" x=\"1012.5\" y=\"-1278.5\" font-family=\"monospace\" font-size=\"10.00\">AccumulateGrad</text>\n</g>\n<!-- 137174182640176&#45;&gt;137174182630192 -->\n<g id=\"edge11\" class=\"edge\">\n<title>137174182640176&#45;&gt;137174182630192</title>\n<path fill=\"none\" stroke=\"black\" d=\"M1011.83,-1271.37C1011.1,-1262.07 1009.92,-1246.98 1008.98,-1234.9\"/>\n<polygon fill=\"black\" stroke=\"black\" points=\"1012.46,-1234.6 1008.2,-1224.91 1005.49,-1235.15 1012.46,-1234.6\"/>\n</g>\n<!-- 137174169542992 -->\n<g id=\"node14\" class=\"node\">\n<title>137174169542992</title>\n<polygon fill=\"lightblue\" stroke=\"black\" points=\"1078,-1362 947,-1362 947,-1332 1078,-1332 1078,-1362\"/>\n<text text-anchor=\"middle\" x=\"1012.5\" y=\"-1350\" font-family=\"monospace\" font-size=\"10.00\">input_mapper.weight</text>\n<text text-anchor=\"middle\" x=\"1012.5\" y=\"-1339\" font-family=\"monospace\" font-size=\"10.00\"> (128, 784)</text>\n</g>\n<!-- 137174169542992&#45;&gt;137174182640176 -->\n<g id=\"edge12\" class=\"edge\">\n<title>137174169542992&#45;&gt;137174182640176</title>\n<path fill=\"none\" stroke=\"black\" d=\"M1012.5,-1331.8C1012.5,-1322.7 1012.5,-1310.79 1012.5,-1300.9\"/>\n<polygon fill=\"black\" stroke=\"black\" points=\"1016,-1300.84 1012.5,-1290.84 1009,-1300.84 1016,-1300.84\"/>\n</g>\n<!-- 137174182632688 -->\n<g id=\"node15\" class=\"node\">\n<title>137174182632688</title>\n<polygon fill=\"lightgrey\" stroke=\"black\" points=\"702,-839.5 601,-839.5 601,-820.5 702,-820.5 702,-839.5\"/>\n<text text-anchor=\"middle\" x=\"651.5\" y=\"-827.5\" font-family=\"monospace\" font-size=\"10.00\">AddmmBackward0</text>\n</g>\n<!-- 137174182632688&#45;&gt;137174182631584 -->\n<g id=\"edge13\" class=\"edge\">\n<title>137174182632688&#45;&gt;137174182631584</title>\n<path fill=\"none\" stroke=\"black\" d=\"M650.76,-820.37C650.07,-812.25 649,-799.81 648.11,-789.39\"/>\n<polygon fill=\"black\" stroke=\"black\" points=\"651.58,-788.83 647.24,-779.17 644.61,-789.43 651.58,-788.83\"/>\n</g>\n<!-- 137174182638256 -->\n<g id=\"node16\" class=\"node\">\n<title>137174182638256</title>\n<polygon fill=\"lightgrey\" stroke=\"black\" points=\"595,-905.5 494,-905.5 494,-886.5 595,-886.5 595,-905.5\"/>\n<text text-anchor=\"middle\" x=\"544.5\" y=\"-893.5\" font-family=\"monospace\" font-size=\"10.00\">AccumulateGrad</text>\n</g>\n<!-- 137174182638256&#45;&gt;137174182632688 -->\n<g id=\"edge14\" class=\"edge\">\n<title>137174182638256&#45;&gt;137174182632688</title>\n<path fill=\"none\" stroke=\"black\" d=\"M558.93,-886.37C576.72,-875.73 607.18,-857.51 628.28,-844.89\"/>\n<polygon fill=\"black\" stroke=\"black\" points=\"630.17,-847.84 636.96,-839.7 626.58,-841.83 630.17,-847.84\"/>\n</g>\n<!-- 137174171103408 -->\n<g id=\"node17\" class=\"node\">\n<title>137174171103408</title>\n<polygon fill=\"lightblue\" stroke=\"black\" points=\"579,-977 430,-977 430,-947 579,-947 579,-977\"/>\n<text text-anchor=\"middle\" x=\"504.5\" y=\"-965\" font-family=\"monospace\" font-size=\"10.00\">blocks.0.linear_2.bias</text>\n<text text-anchor=\"middle\" x=\"504.5\" y=\"-954\" font-family=\"monospace\" font-size=\"10.00\"> (128)</text>\n</g>\n<!-- 137174171103408&#45;&gt;137174182638256 -->\n<g id=\"edge15\" class=\"edge\">\n<title>137174171103408&#45;&gt;137174182638256</title>\n<path fill=\"none\" stroke=\"black\" d=\"M513.38,-946.8C519.31,-937.31 527.15,-924.76 533.48,-914.63\"/>\n<polygon fill=\"black\" stroke=\"black\" points=\"536.64,-916.18 538.97,-905.84 530.7,-912.47 536.64,-916.18\"/>\n</g>\n<!-- 137174182629232 -->\n<g id=\"node18\" class=\"node\">\n<title>137174182629232</title>\n<polygon fill=\"lightgrey\" stroke=\"black\" points=\"804,-905.5 715,-905.5 715,-886.5 804,-886.5 804,-905.5\"/>\n<text text-anchor=\"middle\" x=\"759.5\" y=\"-893.5\" font-family=\"monospace\" font-size=\"10.00\">MulBackward0</text>\n</g>\n<!-- 137174182629232&#45;&gt;137174182632688 -->\n<g id=\"edge16\" class=\"edge\">\n<title>137174182629232&#45;&gt;137174182632688</title>\n<path fill=\"none\" stroke=\"black\" d=\"M744.93,-886.37C726.98,-875.73 696.23,-857.51 674.94,-844.89\"/>\n<polygon fill=\"black\" stroke=\"black\" points=\"676.57,-841.79 666.18,-839.7 673,-847.81 676.57,-841.79\"/>\n</g>\n<!-- 137174182626160 -->\n<g id=\"node19\" class=\"node\">\n<title>137174182626160</title>\n<polygon fill=\"lightgrey\" stroke=\"black\" points=\"811,-971.5 716,-971.5 716,-952.5 811,-952.5 811,-971.5\"/>\n<text text-anchor=\"middle\" x=\"763.5\" y=\"-959.5\" font-family=\"monospace\" font-size=\"10.00\">ReluBackward0</text>\n</g>\n<!-- 137174182626160&#45;&gt;137174182629232 -->\n<g id=\"edge17\" class=\"edge\">\n<title>137174182626160&#45;&gt;137174182629232</title>\n<path fill=\"none\" stroke=\"black\" d=\"M762.96,-952.37C762.38,-943.07 761.44,-927.98 760.68,-915.9\"/>\n<polygon fill=\"black\" stroke=\"black\" points=\"764.17,-915.67 760.06,-905.91 757.19,-916.1 764.17,-915.67\"/>\n</g>\n<!-- 137174182630240&#45;&gt;137174182626160 -->\n<g id=\"edge18\" class=\"edge\">\n<title>137174182630240&#45;&gt;137174182626160</title>\n<path fill=\"none\" stroke=\"black\" d=\"M763.5,-1018.37C763.5,-1009.16 763.5,-994.29 763.5,-982.27\"/>\n<polygon fill=\"black\" stroke=\"black\" points=\"767,-981.91 763.5,-971.91 760,-981.91 767,-981.91\"/>\n</g>\n<!-- 137174182626016 -->\n<g id=\"node21\" class=\"node\">\n<title>137174182626016</title>\n<polygon fill=\"lightgrey\" stroke=\"black\" points=\"682,-1098 581,-1098 581,-1079 682,-1079 682,-1098\"/>\n<text text-anchor=\"middle\" x=\"631.5\" y=\"-1086\" font-family=\"monospace\" font-size=\"10.00\">AccumulateGrad</text>\n</g>\n<!-- 137174182626016&#45;&gt;137174182630240 -->\n<g id=\"edge19\" class=\"edge\">\n<title>137174182626016&#45;&gt;137174182630240</title>\n<path fill=\"none\" stroke=\"black\" d=\"M650.69,-1078.99C672.89,-1069.16 709.62,-1052.88 735.12,-1041.58\"/>\n<polygon fill=\"black\" stroke=\"black\" points=\"736.56,-1044.77 744.28,-1037.52 733.72,-1038.37 736.56,-1044.77\"/>\n</g>\n<!-- 137174171103888 -->\n<g id=\"node22\" class=\"node\">\n<title>137174171103888</title>\n<polygon fill=\"lightblue\" stroke=\"black\" points=\"688,-1164 539,-1164 539,-1134 688,-1134 688,-1164\"/>\n<text text-anchor=\"middle\" x=\"613.5\" y=\"-1152\" font-family=\"monospace\" font-size=\"10.00\">blocks.0.linear_1.bias</text>\n<text text-anchor=\"middle\" x=\"613.5\" y=\"-1141\" font-family=\"monospace\" font-size=\"10.00\"> (128)</text>\n</g>\n<!-- 137174171103888&#45;&gt;137174182626016 -->\n<g id=\"edge20\" class=\"edge\">\n<title>137174171103888&#45;&gt;137174182626016</title>\n<path fill=\"none\" stroke=\"black\" d=\"M617.86,-1133.84C620.26,-1126.04 623.26,-1116.27 625.84,-1107.89\"/>\n<polygon fill=\"black\" stroke=\"black\" points=\"629.21,-1108.85 628.8,-1098.27 622.52,-1106.79 629.21,-1108.85\"/>\n</g>\n<!-- 137174182626208 -->\n<g id=\"node23\" class=\"node\">\n<title>137174182626208</title>\n<polygon fill=\"lightgrey\" stroke=\"black\" points=\"795,-1098 718,-1098 718,-1079 795,-1079 795,-1098\"/>\n<text text-anchor=\"middle\" x=\"756.5\" y=\"-1086\" font-family=\"monospace\" font-size=\"10.00\">TBackward0</text>\n</g>\n<!-- 137174182626208&#45;&gt;137174182630240 -->\n<g id=\"edge22\" class=\"edge\">\n<title>137174182626208&#45;&gt;137174182630240</title>\n<path fill=\"none\" stroke=\"black\" d=\"M757.53,-1078.87C758.5,-1070.75 759.99,-1058.31 761.24,-1047.89\"/>\n<polygon fill=\"black\" stroke=\"black\" points=\"764.75,-1048.01 762.46,-1037.67 757.8,-1047.18 764.75,-1048.01\"/>\n</g>\n<!-- 137174182626112 -->\n<g id=\"node24\" class=\"node\">\n<title>137174182626112</title>\n<polygon fill=\"lightgrey\" stroke=\"black\" points=\"807,-1158.5 706,-1158.5 706,-1139.5 807,-1139.5 807,-1158.5\"/>\n<text text-anchor=\"middle\" x=\"756.5\" y=\"-1146.5\" font-family=\"monospace\" font-size=\"10.00\">AccumulateGrad</text>\n</g>\n<!-- 137174182626112&#45;&gt;137174182626208 -->\n<g id=\"edge23\" class=\"edge\">\n<title>137174182626112&#45;&gt;137174182626208</title>\n<path fill=\"none\" stroke=\"black\" d=\"M756.5,-1139.37C756.5,-1131.25 756.5,-1118.81 756.5,-1108.39\"/>\n<polygon fill=\"black\" stroke=\"black\" points=\"760,-1108.17 756.5,-1098.17 753,-1108.17 760,-1108.17\"/>\n</g>\n<!-- 137174171103984 -->\n<g id=\"node25\" class=\"node\">\n<title>137174171103984</title>\n<polygon fill=\"lightblue\" stroke=\"black\" points=\"822,-1230 661,-1230 661,-1200 822,-1200 822,-1230\"/>\n<text text-anchor=\"middle\" x=\"741.5\" y=\"-1218\" font-family=\"monospace\" font-size=\"10.00\">blocks.0.linear_1.weight</text>\n<text text-anchor=\"middle\" x=\"741.5\" y=\"-1207\" font-family=\"monospace\" font-size=\"10.00\"> (128, 128)</text>\n</g>\n<!-- 137174171103984&#45;&gt;137174182626112 -->\n<g id=\"edge24\" class=\"edge\">\n<title>137174171103984&#45;&gt;137174182626112</title>\n<path fill=\"none\" stroke=\"black\" d=\"M744.83,-1199.8C746.96,-1190.7 749.75,-1178.79 752.07,-1168.9\"/>\n<polygon fill=\"black\" stroke=\"black\" points=\"755.55,-1169.38 754.43,-1158.84 748.74,-1167.78 755.55,-1169.38\"/>\n</g>\n<!-- 137174182628032 -->\n<g id=\"node26\" class=\"node\">\n<title>137174182628032</title>\n<polygon fill=\"lightgrey\" stroke=\"black\" points=\"690,-905.5 613,-905.5 613,-886.5 690,-886.5 690,-905.5\"/>\n<text text-anchor=\"middle\" x=\"651.5\" y=\"-893.5\" font-family=\"monospace\" font-size=\"10.00\">TBackward0</text>\n</g>\n<!-- 137174182628032&#45;&gt;137174182632688 -->\n<g id=\"edge25\" class=\"edge\">\n<title>137174182628032&#45;&gt;137174182632688</title>\n<path fill=\"none\" stroke=\"black\" d=\"M651.5,-886.37C651.5,-877.16 651.5,-862.29 651.5,-850.27\"/>\n<polygon fill=\"black\" stroke=\"black\" points=\"655,-849.91 651.5,-839.91 648,-849.91 655,-849.91\"/>\n</g>\n<!-- 137174182626400 -->\n<g id=\"node27\" class=\"node\">\n<title>137174182626400</title>\n<polygon fill=\"lightgrey\" stroke=\"black\" points=\"698,-971.5 597,-971.5 597,-952.5 698,-952.5 698,-971.5\"/>\n<text text-anchor=\"middle\" x=\"647.5\" y=\"-959.5\" font-family=\"monospace\" font-size=\"10.00\">AccumulateGrad</text>\n</g>\n<!-- 137174182626400&#45;&gt;137174182628032 -->\n<g id=\"edge26\" class=\"edge\">\n<title>137174182626400&#45;&gt;137174182628032</title>\n<path fill=\"none\" stroke=\"black\" d=\"M648.04,-952.37C648.62,-943.07 649.56,-927.98 650.32,-915.9\"/>\n<polygon fill=\"black\" stroke=\"black\" points=\"653.81,-916.1 650.94,-905.91 646.83,-915.67 653.81,-916.1\"/>\n</g>\n<!-- 137174171102928 -->\n<g id=\"node28\" class=\"node\">\n<title>137174171102928</title>\n<polygon fill=\"lightblue\" stroke=\"black\" points=\"695,-1043 534,-1043 534,-1013 695,-1013 695,-1043\"/>\n<text text-anchor=\"middle\" x=\"614.5\" y=\"-1031\" font-family=\"monospace\" font-size=\"10.00\">blocks.0.linear_2.weight</text>\n<text text-anchor=\"middle\" x=\"614.5\" y=\"-1020\" font-family=\"monospace\" font-size=\"10.00\"> (128, 128)</text>\n</g>\n<!-- 137174171102928&#45;&gt;137174182626400 -->\n<g id=\"edge27\" class=\"edge\">\n<title>137174171102928&#45;&gt;137174182626400</title>\n<path fill=\"none\" stroke=\"black\" d=\"M621.82,-1012.8C626.67,-1003.41 633.05,-991.02 638.25,-980.95\"/>\n<polygon fill=\"black\" stroke=\"black\" points=\"641.47,-982.34 642.94,-971.84 635.25,-979.13 641.47,-982.34\"/>\n</g>\n<!-- 137174182640224 -->\n<g id=\"node29\" class=\"node\">\n<title>137174182640224</title>\n<polygon fill=\"lightgrey\" stroke=\"black\" points=\"483,-520.5 382,-520.5 382,-501.5 483,-501.5 483,-520.5\"/>\n<text text-anchor=\"middle\" x=\"432.5\" y=\"-508.5\" font-family=\"monospace\" font-size=\"10.00\">AddmmBackward0</text>\n</g>\n<!-- 137174182640224&#45;&gt;137174182638880 -->\n<g id=\"edge28\" class=\"edge\">\n<title>137174182640224&#45;&gt;137174182638880</title>\n<path fill=\"none\" stroke=\"black\" d=\"M431.76,-501.37C431.07,-493.25 430,-480.81 429.11,-470.39\"/>\n<polygon fill=\"black\" stroke=\"black\" points=\"432.58,-469.83 428.24,-460.17 425.61,-470.43 432.58,-469.83\"/>\n</g>\n<!-- 137174182626064 -->\n<g id=\"node30\" class=\"node\">\n<title>137174182626064</title>\n<polygon fill=\"lightgrey\" stroke=\"black\" points=\"376,-586.5 275,-586.5 275,-567.5 376,-567.5 376,-586.5\"/>\n<text text-anchor=\"middle\" x=\"325.5\" y=\"-574.5\" font-family=\"monospace\" font-size=\"10.00\">AccumulateGrad</text>\n</g>\n<!-- 137174182626064&#45;&gt;137174182640224 -->\n<g id=\"edge29\" class=\"edge\">\n<title>137174182626064&#45;&gt;137174182640224</title>\n<path fill=\"none\" stroke=\"black\" d=\"M339.93,-567.37C357.72,-556.73 388.18,-538.51 409.28,-525.89\"/>\n<polygon fill=\"black\" stroke=\"black\" points=\"411.17,-528.84 417.96,-520.7 407.58,-522.83 411.17,-528.84\"/>\n</g>\n<!-- 137174169544240 -->\n<g id=\"node31\" class=\"node\">\n<title>137174169544240</title>\n<polygon fill=\"lightblue\" stroke=\"black\" points=\"360,-658 211,-658 211,-628 360,-628 360,-658\"/>\n<text text-anchor=\"middle\" x=\"285.5\" y=\"-646\" font-family=\"monospace\" font-size=\"10.00\">blocks.1.linear_2.bias</text>\n<text text-anchor=\"middle\" x=\"285.5\" y=\"-635\" font-family=\"monospace\" font-size=\"10.00\"> (128)</text>\n</g>\n<!-- 137174169544240&#45;&gt;137174182626064 -->\n<g id=\"edge30\" class=\"edge\">\n<title>137174169544240&#45;&gt;137174182626064</title>\n<path fill=\"none\" stroke=\"black\" d=\"M294.38,-627.8C300.31,-618.31 308.15,-605.76 314.48,-595.63\"/>\n<polygon fill=\"black\" stroke=\"black\" points=\"317.64,-597.18 319.97,-586.84 311.7,-593.47 317.64,-597.18\"/>\n</g>\n<!-- 137174182626256 -->\n<g id=\"node32\" class=\"node\">\n<title>137174182626256</title>\n<polygon fill=\"lightgrey\" stroke=\"black\" points=\"585,-586.5 496,-586.5 496,-567.5 585,-567.5 585,-586.5\"/>\n<text text-anchor=\"middle\" x=\"540.5\" y=\"-574.5\" font-family=\"monospace\" font-size=\"10.00\">MulBackward0</text>\n</g>\n<!-- 137174182626256&#45;&gt;137174182640224 -->\n<g id=\"edge31\" class=\"edge\">\n<title>137174182626256&#45;&gt;137174182640224</title>\n<path fill=\"none\" stroke=\"black\" d=\"M525.93,-567.37C507.98,-556.73 477.23,-538.51 455.94,-525.89\"/>\n<polygon fill=\"black\" stroke=\"black\" points=\"457.57,-522.79 447.18,-520.7 454,-528.81 457.57,-522.79\"/>\n</g>\n<!-- 137174182626496 -->\n<g id=\"node33\" class=\"node\">\n<title>137174182626496</title>\n<polygon fill=\"lightgrey\" stroke=\"black\" points=\"592,-652.5 497,-652.5 497,-633.5 592,-633.5 592,-652.5\"/>\n<text text-anchor=\"middle\" x=\"544.5\" y=\"-640.5\" font-family=\"monospace\" font-size=\"10.00\">ReluBackward0</text>\n</g>\n<!-- 137174182626496&#45;&gt;137174182626256 -->\n<g id=\"edge32\" class=\"edge\">\n<title>137174182626496&#45;&gt;137174182626256</title>\n<path fill=\"none\" stroke=\"black\" d=\"M543.96,-633.37C543.38,-624.07 542.44,-608.98 541.68,-596.9\"/>\n<polygon fill=\"black\" stroke=\"black\" points=\"545.17,-596.67 541.06,-586.91 538.19,-597.1 545.17,-596.67\"/>\n</g>\n<!-- 137174182640416&#45;&gt;137174182626496 -->\n<g id=\"edge33\" class=\"edge\">\n<title>137174182640416&#45;&gt;137174182626496</title>\n<path fill=\"none\" stroke=\"black\" d=\"M544.5,-699.37C544.5,-690.16 544.5,-675.29 544.5,-663.27\"/>\n<polygon fill=\"black\" stroke=\"black\" points=\"548,-662.91 544.5,-652.91 541,-662.91 548,-662.91\"/>\n</g>\n<!-- 137174182638832 -->\n<g id=\"node35\" class=\"node\">\n<title>137174182638832</title>\n<polygon fill=\"lightgrey\" stroke=\"black\" points=\"462,-779 361,-779 361,-760 462,-760 462,-779\"/>\n<text text-anchor=\"middle\" x=\"411.5\" y=\"-767\" font-family=\"monospace\" font-size=\"10.00\">AccumulateGrad</text>\n</g>\n<!-- 137174182638832&#45;&gt;137174182640416 -->\n<g id=\"edge34\" class=\"edge\">\n<title>137174182638832&#45;&gt;137174182640416</title>\n<path fill=\"none\" stroke=\"black\" d=\"M430.84,-759.99C453.2,-750.16 490.21,-733.88 515.9,-722.58\"/>\n<polygon fill=\"black\" stroke=\"black\" points=\"517.39,-725.75 525.14,-718.52 514.57,-719.34 517.39,-725.75\"/>\n</g>\n<!-- 137174169544048 -->\n<g id=\"node36\" class=\"node\">\n<title>137174169544048</title>\n<polygon fill=\"lightblue\" stroke=\"black\" points=\"464,-845 315,-845 315,-815 464,-815 464,-845\"/>\n<text text-anchor=\"middle\" x=\"389.5\" y=\"-833\" font-family=\"monospace\" font-size=\"10.00\">blocks.1.linear_1.bias</text>\n<text text-anchor=\"middle\" x=\"389.5\" y=\"-822\" font-family=\"monospace\" font-size=\"10.00\"> (128)</text>\n</g>\n<!-- 137174169544048&#45;&gt;137174182638832 -->\n<g id=\"edge35\" class=\"edge\">\n<title>137174169544048&#45;&gt;137174182638832</title>\n<path fill=\"none\" stroke=\"black\" d=\"M394.83,-814.84C397.76,-807.04 401.43,-797.27 404.58,-788.89\"/>\n<polygon fill=\"black\" stroke=\"black\" points=\"407.96,-789.86 408.2,-779.27 401.41,-787.39 407.96,-789.86\"/>\n</g>\n<!-- 137174182639840 -->\n<g id=\"node37\" class=\"node\">\n<title>137174182639840</title>\n<polygon fill=\"lightgrey\" stroke=\"black\" points=\"575,-779 498,-779 498,-760 575,-760 575,-779\"/>\n<text text-anchor=\"middle\" x=\"536.5\" y=\"-767\" font-family=\"monospace\" font-size=\"10.00\">TBackward0</text>\n</g>\n<!-- 137174182639840&#45;&gt;137174182640416 -->\n<g id=\"edge37\" class=\"edge\">\n<title>137174182639840&#45;&gt;137174182640416</title>\n<path fill=\"none\" stroke=\"black\" d=\"M537.68,-759.87C538.79,-751.75 540.49,-739.31 541.92,-728.89\"/>\n<polygon fill=\"black\" stroke=\"black\" points=\"545.43,-729.05 543.31,-718.67 538.49,-728.1 545.43,-729.05\"/>\n</g>\n<!-- 137174182639888 -->\n<g id=\"node38\" class=\"node\">\n<title>137174182639888</title>\n<polygon fill=\"lightgrey\" stroke=\"black\" points=\"583,-839.5 482,-839.5 482,-820.5 583,-820.5 583,-839.5\"/>\n<text text-anchor=\"middle\" x=\"532.5\" y=\"-827.5\" font-family=\"monospace\" font-size=\"10.00\">AccumulateGrad</text>\n</g>\n<!-- 137174182639888&#45;&gt;137174182639840 -->\n<g id=\"edge38\" class=\"edge\">\n<title>137174182639888&#45;&gt;137174182639840</title>\n<path fill=\"none\" stroke=\"black\" d=\"M533.09,-820.37C533.65,-812.25 534.5,-799.81 535.21,-789.39\"/>\n<polygon fill=\"black\" stroke=\"black\" points=\"538.72,-789.38 535.91,-779.17 531.73,-788.91 538.72,-789.38\"/>\n</g>\n<!-- 137174169541264 -->\n<g id=\"node39\" class=\"node\">\n<title>137174169541264</title>\n<polygon fill=\"lightblue\" stroke=\"black\" points=\"476,-911 315,-911 315,-881 476,-881 476,-911\"/>\n<text text-anchor=\"middle\" x=\"395.5\" y=\"-899\" font-family=\"monospace\" font-size=\"10.00\">blocks.1.linear_1.weight</text>\n<text text-anchor=\"middle\" x=\"395.5\" y=\"-888\" font-family=\"monospace\" font-size=\"10.00\"> (128, 128)</text>\n</g>\n<!-- 137174169541264&#45;&gt;137174182639888 -->\n<g id=\"edge39\" class=\"edge\">\n<title>137174169541264&#45;&gt;137174182639888</title>\n<path fill=\"none\" stroke=\"black\" d=\"M425.57,-880.95C449.27,-869.88 482.06,-854.56 505.06,-843.82\"/>\n<polygon fill=\"black\" stroke=\"black\" points=\"506.69,-846.92 514.27,-839.52 503.73,-840.58 506.69,-846.92\"/>\n</g>\n<!-- 137174182628800 -->\n<g id=\"node40\" class=\"node\">\n<title>137174182628800</title>\n<polygon fill=\"lightgrey\" stroke=\"black\" points=\"471,-586.5 394,-586.5 394,-567.5 471,-567.5 471,-586.5\"/>\n<text text-anchor=\"middle\" x=\"432.5\" y=\"-574.5\" font-family=\"monospace\" font-size=\"10.00\">TBackward0</text>\n</g>\n<!-- 137174182628800&#45;&gt;137174182640224 -->\n<g id=\"edge40\" class=\"edge\">\n<title>137174182628800&#45;&gt;137174182640224</title>\n<path fill=\"none\" stroke=\"black\" d=\"M432.5,-567.37C432.5,-558.16 432.5,-543.29 432.5,-531.27\"/>\n<polygon fill=\"black\" stroke=\"black\" points=\"436,-530.91 432.5,-520.91 429,-530.91 436,-530.91\"/>\n</g>\n<!-- 137174182637920 -->\n<g id=\"node41\" class=\"node\">\n<title>137174182637920</title>\n<polygon fill=\"lightgrey\" stroke=\"black\" points=\"479,-652.5 378,-652.5 378,-633.5 479,-633.5 479,-652.5\"/>\n<text text-anchor=\"middle\" x=\"428.5\" y=\"-640.5\" font-family=\"monospace\" font-size=\"10.00\">AccumulateGrad</text>\n</g>\n<!-- 137174182637920&#45;&gt;137174182628800 -->\n<g id=\"edge41\" class=\"edge\">\n<title>137174182637920&#45;&gt;137174182628800</title>\n<path fill=\"none\" stroke=\"black\" d=\"M429.04,-633.37C429.62,-624.07 430.56,-608.98 431.32,-596.9\"/>\n<polygon fill=\"black\" stroke=\"black\" points=\"434.81,-597.1 431.94,-586.91 427.83,-596.67 434.81,-597.1\"/>\n</g>\n<!-- 137174169543952 -->\n<g id=\"node42\" class=\"node\">\n<title>137174169543952</title>\n<polygon fill=\"lightblue\" stroke=\"black\" points=\"476,-724 315,-724 315,-694 476,-694 476,-724\"/>\n<text text-anchor=\"middle\" x=\"395.5\" y=\"-712\" font-family=\"monospace\" font-size=\"10.00\">blocks.1.linear_2.weight</text>\n<text text-anchor=\"middle\" x=\"395.5\" y=\"-701\" font-family=\"monospace\" font-size=\"10.00\"> (128, 128)</text>\n</g>\n<!-- 137174169543952&#45;&gt;137174182637920 -->\n<g id=\"edge42\" class=\"edge\">\n<title>137174169543952&#45;&gt;137174182637920</title>\n<path fill=\"none\" stroke=\"black\" d=\"M402.82,-693.8C407.67,-684.41 414.05,-672.02 419.25,-661.95\"/>\n<polygon fill=\"black\" stroke=\"black\" points=\"422.47,-663.34 423.94,-652.84 416.25,-660.13 422.47,-663.34\"/>\n</g>\n<!-- 137174182634656 -->\n<g id=\"node43\" class=\"node\">\n<title>137174182634656</title>\n<polygon fill=\"lightgrey\" stroke=\"black\" points=\"384,-201.5 283,-201.5 283,-182.5 384,-182.5 384,-201.5\"/>\n<text text-anchor=\"middle\" x=\"333.5\" y=\"-189.5\" font-family=\"monospace\" font-size=\"10.00\">AddmmBackward0</text>\n</g>\n<!-- 137174182634656&#45;&gt;137174182996832 -->\n<g id=\"edge43\" class=\"edge\">\n<title>137174182634656&#45;&gt;137174182996832</title>\n<path fill=\"none\" stroke=\"black\" d=\"M335.71,-182.37C337.82,-174.16 341.05,-161.54 343.74,-151.05\"/>\n<polygon fill=\"black\" stroke=\"black\" points=\"347.18,-151.72 346.28,-141.17 340.4,-149.98 347.18,-151.72\"/>\n</g>\n<!-- 137174182638208 -->\n<g id=\"node44\" class=\"node\">\n<title>137174182638208</title>\n<polygon fill=\"lightgrey\" stroke=\"black\" points=\"150,-267.5 49,-267.5 49,-248.5 150,-248.5 150,-267.5\"/>\n<text text-anchor=\"middle\" x=\"99.5\" y=\"-255.5\" font-family=\"monospace\" font-size=\"10.00\">AccumulateGrad</text>\n</g>\n<!-- 137174182638208&#45;&gt;137174182634656 -->\n<g id=\"edge44\" class=\"edge\">\n<title>137174182638208&#45;&gt;137174182634656</title>\n<path fill=\"none\" stroke=\"black\" d=\"M131.06,-248.37C172.78,-236.96 246.38,-216.83 292.41,-204.24\"/>\n<polygon fill=\"black\" stroke=\"black\" points=\"293.35,-207.61 302.07,-201.6 291.5,-200.86 293.35,-207.61\"/>\n</g>\n<!-- 137174169546256 -->\n<g id=\"node45\" class=\"node\">\n<title>137174169546256</title>\n<polygon fill=\"lightblue\" stroke=\"black\" points=\"149,-339 0,-339 0,-309 149,-309 149,-339\"/>\n<text text-anchor=\"middle\" x=\"74.5\" y=\"-327\" font-family=\"monospace\" font-size=\"10.00\">blocks.2.linear_2.bias</text>\n<text text-anchor=\"middle\" x=\"74.5\" y=\"-316\" font-family=\"monospace\" font-size=\"10.00\"> (128)</text>\n</g>\n<!-- 137174169546256&#45;&gt;137174182638208 -->\n<g id=\"edge45\" class=\"edge\">\n<title>137174169546256&#45;&gt;137174182638208</title>\n<path fill=\"none\" stroke=\"black\" d=\"M80.05,-308.8C83.68,-299.5 88.46,-287.27 92.37,-277.26\"/>\n<polygon fill=\"black\" stroke=\"black\" points=\"95.67,-278.43 96.05,-267.84 89.15,-275.89 95.67,-278.43\"/>\n</g>\n<!-- 137174182634752 -->\n<g id=\"node46\" class=\"node\">\n<title>137174182634752</title>\n<polygon fill=\"lightgrey\" stroke=\"black\" points=\"378,-267.5 289,-267.5 289,-248.5 378,-248.5 378,-267.5\"/>\n<text text-anchor=\"middle\" x=\"333.5\" y=\"-255.5\" font-family=\"monospace\" font-size=\"10.00\">MulBackward0</text>\n</g>\n<!-- 137174182634752&#45;&gt;137174182634656 -->\n<g id=\"edge46\" class=\"edge\">\n<title>137174182634752&#45;&gt;137174182634656</title>\n<path fill=\"none\" stroke=\"black\" d=\"M333.5,-248.37C333.5,-239.16 333.5,-224.29 333.5,-212.27\"/>\n<polygon fill=\"black\" stroke=\"black\" points=\"337,-211.91 333.5,-201.91 330,-211.91 337,-211.91\"/>\n</g>\n<!-- 137174182632544 -->\n<g id=\"node47\" class=\"node\">\n<title>137174182632544</title>\n<polygon fill=\"lightgrey\" stroke=\"black\" points=\"381,-333.5 286,-333.5 286,-314.5 381,-314.5 381,-333.5\"/>\n<text text-anchor=\"middle\" x=\"333.5\" y=\"-321.5\" font-family=\"monospace\" font-size=\"10.00\">ReluBackward0</text>\n</g>\n<!-- 137174182632544&#45;&gt;137174182634752 -->\n<g id=\"edge47\" class=\"edge\">\n<title>137174182632544&#45;&gt;137174182634752</title>\n<path fill=\"none\" stroke=\"black\" d=\"M333.5,-314.37C333.5,-305.16 333.5,-290.29 333.5,-278.27\"/>\n<polygon fill=\"black\" stroke=\"black\" points=\"337,-277.91 333.5,-267.91 330,-277.91 337,-277.91\"/>\n</g>\n<!-- 137174182629088&#45;&gt;137174182632544 -->\n<g id=\"edge48\" class=\"edge\">\n<title>137174182629088&#45;&gt;137174182632544</title>\n<path fill=\"none\" stroke=\"black\" d=\"M333.5,-380.37C333.5,-371.16 333.5,-356.29 333.5,-344.27\"/>\n<polygon fill=\"black\" stroke=\"black\" points=\"337,-343.91 333.5,-333.91 330,-343.91 337,-343.91\"/>\n</g>\n<!-- 137174182628128 -->\n<g id=\"node49\" class=\"node\">\n<title>137174182628128</title>\n<polygon fill=\"lightgrey\" stroke=\"black\" points=\"243,-460 142,-460 142,-441 243,-441 243,-460\"/>\n<text text-anchor=\"middle\" x=\"192.5\" y=\"-448\" font-family=\"monospace\" font-size=\"10.00\">AccumulateGrad</text>\n</g>\n<!-- 137174182628128&#45;&gt;137174182629088 -->\n<g id=\"edge49\" class=\"edge\">\n<title>137174182628128&#45;&gt;137174182629088</title>\n<path fill=\"none\" stroke=\"black\" d=\"M213,-440.99C236.81,-431.12 276.29,-414.73 303.54,-403.43\"/>\n<polygon fill=\"black\" stroke=\"black\" points=\"305.08,-406.58 312.97,-399.52 302.39,-400.12 305.08,-406.58\"/>\n</g>\n<!-- 137174169544432 -->\n<g id=\"node50\" class=\"node\">\n<title>137174169544432</title>\n<polygon fill=\"lightblue\" stroke=\"black\" points=\"245,-526 96,-526 96,-496 245,-496 245,-526\"/>\n<text text-anchor=\"middle\" x=\"170.5\" y=\"-514\" font-family=\"monospace\" font-size=\"10.00\">blocks.2.linear_1.bias</text>\n<text text-anchor=\"middle\" x=\"170.5\" y=\"-503\" font-family=\"monospace\" font-size=\"10.00\"> (128)</text>\n</g>\n<!-- 137174169544432&#45;&gt;137174182628128 -->\n<g id=\"edge50\" class=\"edge\">\n<title>137174169544432&#45;&gt;137174182628128</title>\n<path fill=\"none\" stroke=\"black\" d=\"M175.83,-495.84C178.76,-488.04 182.43,-478.27 185.58,-469.89\"/>\n<polygon fill=\"black\" stroke=\"black\" points=\"188.96,-470.86 189.2,-460.27 182.41,-468.39 188.96,-470.86\"/>\n</g>\n<!-- 137174182628944 -->\n<g id=\"node51\" class=\"node\">\n<title>137174182628944</title>\n<polygon fill=\"lightgrey\" stroke=\"black\" points=\"356,-460 279,-460 279,-441 356,-441 356,-460\"/>\n<text text-anchor=\"middle\" x=\"317.5\" y=\"-448\" font-family=\"monospace\" font-size=\"10.00\">TBackward0</text>\n</g>\n<!-- 137174182628944&#45;&gt;137174182629088 -->\n<g id=\"edge52\" class=\"edge\">\n<title>137174182628944&#45;&gt;137174182629088</title>\n<path fill=\"none\" stroke=\"black\" d=\"M319.86,-440.87C322.11,-432.66 325.56,-420.04 328.43,-409.55\"/>\n<polygon fill=\"black\" stroke=\"black\" points=\"331.87,-410.24 331.13,-399.67 325.12,-408.39 331.87,-410.24\"/>\n</g>\n<!-- 137174182628656 -->\n<g id=\"node52\" class=\"node\">\n<title>137174182628656</title>\n<polygon fill=\"lightgrey\" stroke=\"black\" points=\"364,-520.5 263,-520.5 263,-501.5 364,-501.5 364,-520.5\"/>\n<text text-anchor=\"middle\" x=\"313.5\" y=\"-508.5\" font-family=\"monospace\" font-size=\"10.00\">AccumulateGrad</text>\n</g>\n<!-- 137174182628656&#45;&gt;137174182628944 -->\n<g id=\"edge53\" class=\"edge\">\n<title>137174182628656&#45;&gt;137174182628944</title>\n<path fill=\"none\" stroke=\"black\" d=\"M314.09,-501.37C314.65,-493.25 315.5,-480.81 316.21,-470.39\"/>\n<polygon fill=\"black\" stroke=\"black\" points=\"319.72,-470.38 316.91,-460.17 312.73,-469.91 319.72,-470.38\"/>\n</g>\n<!-- 137174169544336 -->\n<g id=\"node53\" class=\"node\">\n<title>137174169544336</title>\n<polygon fill=\"lightblue\" stroke=\"black\" points=\"257,-592 96,-592 96,-562 257,-562 257,-592\"/>\n<text text-anchor=\"middle\" x=\"176.5\" y=\"-580\" font-family=\"monospace\" font-size=\"10.00\">blocks.2.linear_1.weight</text>\n<text text-anchor=\"middle\" x=\"176.5\" y=\"-569\" font-family=\"monospace\" font-size=\"10.00\"> (128, 128)</text>\n</g>\n<!-- 137174169544336&#45;&gt;137174182628656 -->\n<g id=\"edge54\" class=\"edge\">\n<title>137174169544336&#45;&gt;137174182628656</title>\n<path fill=\"none\" stroke=\"black\" d=\"M206.57,-561.95C230.27,-550.88 263.06,-535.56 286.06,-524.82\"/>\n<polygon fill=\"black\" stroke=\"black\" points=\"287.69,-527.92 295.27,-520.52 284.73,-521.58 287.69,-527.92\"/>\n</g>\n<!-- 137174182639264 -->\n<g id=\"node54\" class=\"node\">\n<title>137174182639264</title>\n<polygon fill=\"lightgrey\" stroke=\"black\" points=\"263,-267.5 186,-267.5 186,-248.5 263,-248.5 263,-267.5\"/>\n<text text-anchor=\"middle\" x=\"224.5\" y=\"-255.5\" font-family=\"monospace\" font-size=\"10.00\">TBackward0</text>\n</g>\n<!-- 137174182639264&#45;&gt;137174182634656 -->\n<g id=\"edge55\" class=\"edge\">\n<title>137174182639264&#45;&gt;137174182634656</title>\n<path fill=\"none\" stroke=\"black\" d=\"M239.2,-248.37C257.32,-237.73 288.35,-219.51 309.84,-206.89\"/>\n<polygon fill=\"black\" stroke=\"black\" points=\"311.83,-209.78 318.68,-201.7 308.29,-203.74 311.83,-209.78\"/>\n</g>\n<!-- 137174182632448 -->\n<g id=\"node55\" class=\"node\">\n<title>137174182632448</title>\n<polygon fill=\"lightgrey\" stroke=\"black\" points=\"268,-333.5 167,-333.5 167,-314.5 268,-314.5 268,-333.5\"/>\n<text text-anchor=\"middle\" x=\"217.5\" y=\"-321.5\" font-family=\"monospace\" font-size=\"10.00\">AccumulateGrad</text>\n</g>\n<!-- 137174182632448&#45;&gt;137174182639264 -->\n<g id=\"edge56\" class=\"edge\">\n<title>137174182632448&#45;&gt;137174182639264</title>\n<path fill=\"none\" stroke=\"black\" d=\"M218.44,-314.37C219.46,-305.07 221.11,-289.98 222.43,-277.9\"/>\n<polygon fill=\"black\" stroke=\"black\" points=\"225.92,-278.23 223.53,-267.91 218.96,-277.47 225.92,-278.23\"/>\n</g>\n<!-- 137174169544528 -->\n<g id=\"node56\" class=\"node\">\n<title>137174169544528</title>\n<polygon fill=\"lightblue\" stroke=\"black\" points=\"265,-405 104,-405 104,-375 265,-375 265,-405\"/>\n<text text-anchor=\"middle\" x=\"184.5\" y=\"-393\" font-family=\"monospace\" font-size=\"10.00\">blocks.2.linear_2.weight</text>\n<text text-anchor=\"middle\" x=\"184.5\" y=\"-382\" font-family=\"monospace\" font-size=\"10.00\"> (128, 128)</text>\n</g>\n<!-- 137174169544528&#45;&gt;137174182632448 -->\n<g id=\"edge57\" class=\"edge\">\n<title>137174169544528&#45;&gt;137174182632448</title>\n<path fill=\"none\" stroke=\"black\" d=\"M191.82,-374.8C196.67,-365.41 203.05,-353.02 208.25,-342.95\"/>\n<polygon fill=\"black\" stroke=\"black\" points=\"211.47,-344.34 212.94,-333.84 205.25,-341.13 211.47,-344.34\"/>\n</g>\n<!-- 137174182998896 -->\n<g id=\"node57\" class=\"node\">\n<title>137174182998896</title>\n<polygon fill=\"lightgrey\" stroke=\"black\" points=\"518,-141 441,-141 441,-122 518,-122 518,-141\"/>\n<text text-anchor=\"middle\" x=\"479.5\" y=\"-129\" font-family=\"monospace\" font-size=\"10.00\">TBackward0</text>\n</g>\n<!-- 137174182998896&#45;&gt;137174182994144 -->\n<g id=\"edge58\" class=\"edge\">\n<title>137174182998896&#45;&gt;137174182994144</title>\n<path fill=\"none\" stroke=\"black\" d=\"M458.45,-121.98C437.09,-113.34 403.8,-99.87 379.44,-90.02\"/>\n<polygon fill=\"black\" stroke=\"black\" points=\"380.51,-86.68 369.93,-86.17 377.89,-93.17 380.51,-86.68\"/>\n</g>\n<!-- 137174182632400 -->\n<g id=\"node58\" class=\"node\">\n<title>137174182632400</title>\n<polygon fill=\"lightgrey\" stroke=\"black\" points=\"546,-201.5 445,-201.5 445,-182.5 546,-182.5 546,-201.5\"/>\n<text text-anchor=\"middle\" x=\"495.5\" y=\"-189.5\" font-family=\"monospace\" font-size=\"10.00\">AccumulateGrad</text>\n</g>\n<!-- 137174182632400&#45;&gt;137174182998896 -->\n<g id=\"edge59\" class=\"edge\">\n<title>137174182632400&#45;&gt;137174182998896</title>\n<path fill=\"none\" stroke=\"black\" d=\"M493.14,-182.37C490.89,-174.16 487.44,-161.54 484.57,-151.05\"/>\n<polygon fill=\"black\" stroke=\"black\" points=\"487.88,-149.89 481.87,-141.17 481.13,-151.74 487.88,-149.89\"/>\n</g>\n<!-- 137174169546352 -->\n<g id=\"node59\" class=\"node\">\n<title>137174169546352</title>\n<polygon fill=\"lightblue\" stroke=\"black\" points=\"560,-273 441,-273 441,-243 560,-243 560,-273\"/>\n<text text-anchor=\"middle\" x=\"500.5\" y=\"-261\" font-family=\"monospace\" font-size=\"10.00\">classifier.weight</text>\n<text text-anchor=\"middle\" x=\"500.5\" y=\"-250\" font-family=\"monospace\" font-size=\"10.00\"> (10, 128)</text>\n</g>\n<!-- 137174169546352&#45;&gt;137174182632400 -->\n<g id=\"edge60\" class=\"edge\">\n<title>137174169546352&#45;&gt;137174182632400</title>\n<path fill=\"none\" stroke=\"black\" d=\"M499.39,-242.8C498.68,-233.7 497.75,-221.79 496.98,-211.9\"/>\n<polygon fill=\"black\" stroke=\"black\" points=\"500.46,-211.54 496.19,-201.84 493.48,-212.09 500.46,-211.54\"/>\n</g>\n</g>\n</svg>\n",
            "text/plain": [
              "<graphviz.graphs.Digraph at 0x7cc259a60890>"
            ]
          },
          "metadata": {}
        }
      ]
    }
  ]
}